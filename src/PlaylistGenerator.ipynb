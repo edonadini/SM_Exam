{
 "cells": [
  {
   "cell_type": "code",
   "execution_count": 45,
   "metadata": {
    "pycharm": {
     "is_executing": false
    }
   },
   "outputs": [],
   "source": [
    "import os\n",
    "import random as rnd\n",
    "import pandas as pd \n",
    "import math as mt\n",
    "\n",
    "import pgutils as pg\n",
    "import pgmath as pm\n",
    "import algorithm as al\n",
    "import numpy as np"
   ]
  },
  {
   "cell_type": "code",
   "execution_count": 46,
   "outputs": [],
   "source": [
    "root_dir = r'C:\\Users\\eleon\\PycharmProjects\\SM_Exam\\data\\yes_small'\n",
    "#root_dir = './data/yes_small'"
   ],
   "metadata": {
    "collapsed": false,
    "pycharm": {
     "name": "#%%\n",
     "is_executing": false
    }
   }
  },
  {
   "cell_type": "code",
   "execution_count": 47,
   "metadata": {
    "pycharm": {
     "is_executing": false
    }
   },
   "outputs": [],
   "source": [
    "#test_data=[]\n",
    "with open(os.path.join(root_dir, 'test.txt')) as f:\n",
    "#with open(root_dir + \"\\\\test.txt\", \"r\") as f:\n",
    "\n",
    "    test_data = f.readlines()\n",
    "    \n",
    "test_dataset = pg.data_to_list(test_data[2:])"
   ]
  },
  {
   "cell_type": "code",
   "execution_count": 48,
   "metadata": {
    "pycharm": {
     "is_executing": false
    }
   },
   "outputs": [],
   "source": [
    "#train_data=[]\n",
    "with open(os.path.join(root_dir,\"train.txt\"), \"r\") as f:\n",
    "    train_data = f.readlines()\n",
    "    \n",
    "#train_dataset = pg.data_to_list(train_data[2:])"
   ]
  },
  {
   "cell_type": "code",
   "execution_count": 49,
   "metadata": {
    "pycharm": {
     "is_executing": false
    }
   },
   "outputs": [],
   "source": [
    "song_hash = pd.read_csv(os.path.join(root_dir,\"song_hash.txt\"), sep=\"\\t\", header=None)\n"
   ]
  },
  {
   "cell_type": "code",
   "execution_count": 50,
   "outputs": [],
   "source": [
    "# setting parameters\n",
    "dimension = 2#rnd.choice([2, 5,10,25,50,100])\n",
    "# regularization parameter set by cross validation\n",
    "lam = rnd.choice([0.0001, 0.001, 0.01, 0.1, 1, 10, 20, 50, 100, 500, 1000])\n",
    "# regularization parameter for dual point model\n",
    "nu = rnd.choice([0, lam])\n",
    "# threshold for landmark dimension\n",
    "r = 0.2\n",
    "# number of landmark\n",
    "n_landmarks = 3#50\n",
    "# num iteration 100 o 200\n",
    "n_iter = 60 #rnd.choice([100, 200])\n",
    "# tau predefined learning rate\n",
    "tau = 0.5"
   ],
   "metadata": {
    "collapsed": false,
    "pycharm": {
     "name": "#%%\n",
     "is_executing": false
    }
   }
  },
  {
   "cell_type": "code",
   "execution_count": 51,
   "outputs": [],
   "source": [
    "toy_dataset=[[0,6,3,2,1,4,2],[2,0,6,5,6,3,0],[0,5,2,1,6],[5,6,2],[6,5,2,3,5,6,2]]\n",
    "\n",
    "songs = 7\n",
    "transition_matrix = pg.transition_count(songs, toy_dataset)\n",
    "position = np.random.rand(songs, dimension)\n",
    "num_transition = np.sum(transition_matrix)\n",
    "params = pm.AlgParams(lam, nu, tau, num_transition, n_landmarks, r, dimension, n_iter)"
   ],
   "metadata": {
    "collapsed": false,
    "pycharm": {
     "name": "#%%\n",
     "is_executing": false
    }
   }
  },
  {
   "cell_type": "code",
   "execution_count": 52,
   "outputs": [
    {
     "name": "stdout",
     "text": [
      "0\n",
      "1\n",
      "2\n",
      "3\n",
      "4\n",
      "5\n",
      "6\n",
      "7\n",
      "8\n",
      "9\n",
      "10\n",
      "11\n",
      "12\n",
      "13\n",
      "14\n",
      "15\n",
      "16\n",
      "17\n",
      "18\n",
      "19\n",
      "20\n",
      "21\n",
      "22\n",
      "23\n",
      "24\n",
      "25\n",
      "26\n",
      "27\n",
      "28\n",
      "29\n",
      "30\n",
      "31\n",
      "32\n",
      "33\n",
      "34\n",
      "35\n",
      "36\n",
      "37\n",
      "38\n",
      "39\n",
      "40\n",
      "41\n",
      "42\n",
      "43\n",
      "44\n",
      "45\n",
      "46\n",
      "47\n",
      "48\n",
      "49\n",
      "50\n",
      "51\n",
      "52\n",
      "53\n",
      "54\n",
      "55\n",
      "56\n",
      "57\n",
      "58\n",
      "59\n"
     ],
     "output_type": "stream"
    }
   ],
   "source": [
    "X = al.single_point_algorithm(songs, transition_matrix, params)"
   ],
   "metadata": {
    "collapsed": false,
    "pycharm": {
     "name": "#%%\n",
     "is_executing": false
    }
   }
  },
  {
   "cell_type": "code",
   "execution_count": 87,
   "outputs": [],
   "source": [
    "dummy_landmarks = [[i for i in range(songs)] for j in range(songs)]\n",
    "d2 = pm.Distances.delta(X)\n",
    "prob_matrix = np.exp(-d2)/pm.Distances.zeta(d2,X,dummy_landmarks)\n",
    "cum_sum = np.sum(prob_matrix, axis=1)\n",
    "prob_matrix = prob_matrix / cum_sum[:,np.newaxis]"
   ],
   "metadata": {
    "collapsed": false,
    "pycharm": {
     "name": "#%%\n",
     "is_executing": false
    }
   }
  },
  {
   "cell_type": "code",
   "execution_count": 84,
   "outputs": [
    {
     "name": "stdout",
     "text": [
      "cum [0.84609751 0.9646615  0.82874336 0.88572032 0.96488818 0.7641816\n",
      " 0.82577392]\n",
      "sum norm [1. 1. 1. 1. 1. 1. 1.]\n",
      "1.0\n"
     ],
     "output_type": "stream"
    }
   ],
   "source": [
    "print('cum',cum_sum)\n",
    "print('sum norm', np.sum(prob_matrix, axis=1))\n",
    "#print('sum row ',np.sum(prob_matrix/cum_sum[0], axis=0))\n",
    "print(np.sum(prob_matrix[1]))"
   ],
   "metadata": {
    "collapsed": false,
    "pycharm": {
     "name": "#%%\n",
     "is_executing": false
    }
   }
  },
  {
   "cell_type": "code",
   "execution_count": 85,
   "outputs": [
    {
     "name": "stdout",
     "text": [
      "[[0.23798622 0.11838589 0.09615957 0.09495869 0.12057908 0.22231058\n",
      "  0.10961998]\n",
      " [0.12348675 0.17551827 0.13813512 0.14024347 0.16939499 0.12061792\n",
      "  0.13260349]\n",
      " [0.09846939 0.13561022 0.24223885 0.17073142 0.13118685 0.10052516\n",
      "  0.12123811]\n",
      " [0.09841321 0.13934163 0.17279191 0.20954666 0.13685519 0.0957732\n",
      "  0.1472782 ]\n",
      " [0.12594767 0.1696283  0.13381345 0.13793064 0.1751945  0.12218599\n",
      "  0.13529944]\n",
      " [0.2015581  0.10484109 0.08900331 0.08378484 0.10605798 0.32178023\n",
      "  0.09297445]\n",
      " [0.1142824  0.13253305 0.12342982 0.14815266 0.13504156 0.10690872\n",
      "  0.23965178]]\n",
      "[1.00014374 0.97585845 0.99557204 0.98534837 0.97431015 1.09010179\n",
      " 0.97866546]\n"
     ],
     "output_type": "stream"
    }
   ],
   "source": [
    "print(prob_matrix)\n",
    "print(np.sum(prob_matrix, axis=0))"
   ],
   "metadata": {
    "collapsed": false,
    "pycharm": {
     "name": "#%%\n",
     "is_executing": false
    }
   }
  },
  {
   "cell_type": "code",
   "execution_count": 86,
   "outputs": [
    {
     "name": "stdout",
     "text": [
      "11.0\n"
     ],
     "output_type": "stream"
    }
   ],
   "source": [
    "toy_test=[[0,4,5,3,6],[4,3,2,6],[0,2,1,0,5]]\n",
    "# evaluate test performance using the average log-likelihood as metric\n",
    "# it is defined as log(Pr(d_test))/n_test)\n",
    "# n_test number of transition in the test set\n",
    "songs = 7 #len(song_hash)\n",
    "n_test = np.sum(pg.transition_count(songs,toy_test))\n",
    "print(n_test)"
   ],
   "metadata": {
    "collapsed": false,
    "pycharm": {
     "name": "#%%\n",
     "is_executing": false
    }
   }
  },
  {
   "cell_type": "code",
   "execution_count": 57,
   "outputs": [
    {
     "name": "stdout",
     "text": [
      "-2.0337920532306204\n"
     ],
     "output_type": "stream"
    }
   ],
   "source": [
    "def log_like(test_set, probability_matrix):\n",
    "    count = 0\n",
    "    for i in range(len(test_set)):\n",
    "        for predecessor, successor in zip(test_set[i][:-1], test_set[i][1:]):\n",
    "            count = count + mt.log(probability_matrix[predecessor, successor])\n",
    "\n",
    "    return count\n",
    "evaluation = log_like(toy_test,prob_matrix) /n_test\n",
    "print(evaluation)\n",
    "#result = sum( sum(dimension.D[s, i.index()] ) for i in range(len(test_dataset)))  "
   ],
   "metadata": {
    "collapsed": false,
    "pycharm": {
     "name": "#%%\n",
     "is_executing": false
    }
   }
  },
  {
   "cell_type": "code",
   "execution_count": 58,
   "outputs": [],
   "source": [
    "#generate a playlist\n",
    "#from __future__ import division\n",
    "#import matplotlib.pyplot as plt\n",
    "#%matplotlib inline"
   ],
   "metadata": {
    "collapsed": false,
    "pycharm": {
     "name": "#%%\n",
     "is_executing": false
    }
   }
  },
  {
   "cell_type": "code",
   "execution_count": 135,
   "outputs": [],
   "source": [
    "#The value of the process are stored in a list X\n",
    "#The list of songs\n",
    "Songs=range(7)"
   ],
   "metadata": {
    "collapsed": false,
    "pycharm": {
     "name": "#%%\n",
     "is_executing": false
    }
   }
  },
  {
   "cell_type": "code",
   "execution_count": 136,
   "outputs": [],
   "source": [
    "def playlist_generator(num_song, current_song):\n",
    "    #Start of the time\n",
    "    t=0\n",
    "    #The music playlist\n",
    "    playlist=[current_song]\n",
    "    #initial probability\n",
    "    prob = 1\n",
    "    #while loop - the Markov chain did not reach 5 we go on\n",
    "    while t < num_song:\n",
    "        #Incrementation of time\n",
    "        t=t+1\n",
    "        #List of played songs\n",
    "        playlist.append(np.random.choice(Songs, replace=True, p=prob_matrix[current_song]))\n",
    "        prob = prob * prob_matrix[current_song, playlist[-1]]\n",
    "        current_song = playlist[-1]\n",
    "\n",
    "    #Printing the path of the Markov chain\n",
    "    #Printing the number of steps\n",
    "    #print(len(X)-1)\n",
    "    titles = [song_hash.iloc[i][1] for i in playlist]\n",
    "    print(\"Song in the playlist: \", titles)\n",
    "    print(\"End state after \", num_song , \" days: \", song_hash.iloc[current_song][1])\n",
    "    print(\"Probability of the possible sequence of states: \", str(prob))"
   ],
   "metadata": {
    "collapsed": false,
    "pycharm": {
     "name": "#%%\n",
     "is_executing": false
    }
   }
  },
  {
   "cell_type": "code",
   "execution_count": 137,
   "outputs": [
    {
     "name": "stdout",
     "text": [
      "Song in the playlist:  ['Down On Me (w\\\\/ 50 Cent)', 'Aston Martin Music (w\\\\/ Drake & Chrisette Michelle)', 'Down On Me (w\\\\/ 50 Cent)', 'Black And Yellow', 'Get Back Up (w\\\\/ Chris Brown)', 'Get Back Up (w\\\\/ Chris Brown)', 'Whip My Hair', 'Whip My Hair', 'Down On Me (w\\\\/ 50 Cent)', 'Down On Me (w\\\\/ 50 Cent)', 'Down On Me (w\\\\/ 50 Cent)', 'Gucci Time (w\\\\/ Swizz Beatz)', 'Down On Me (w\\\\/ 50 Cent)', 'Aston Martin Music (w\\\\/ Drake & Chrisette Michelle)', 'Gucci Time (w\\\\/ Swizz Beatz)', 'Whip My Hair', 'Hot Toddy (w\\\\/ Jay-Z & Ester Dean)', 'Down On Me (w\\\\/ 50 Cent)', 'Get Back Up (w\\\\/ Chris Brown)', 'Get Back Up (w\\\\/ Chris Brown)', 'Gucci Time (w\\\\/ Swizz Beatz)', 'Black And Yellow', 'Down On Me (w\\\\/ 50 Cent)', 'Gucci Time (w\\\\/ Swizz Beatz)', 'Gucci Time (w\\\\/ Swizz Beatz)', 'Down On Me (w\\\\/ 50 Cent)', 'Down On Me (w\\\\/ 50 Cent)', 'Whip My Hair', 'Down On Me (w\\\\/ 50 Cent)', 'Down On Me (w\\\\/ 50 Cent)', 'Aston Martin Music (w\\\\/ Drake & Chrisette Michelle)', 'Black And Yellow', 'Gucci Time (w\\\\/ Swizz Beatz)', 'Hot Toddy (w\\\\/ Jay-Z & Ester Dean)', 'Black And Yellow', 'Get Back Up (w\\\\/ Chris Brown)', 'Whip My Hair', 'Black And Yellow', 'Black And Yellow', 'Get Back Up (w\\\\/ Chris Brown)', 'Gucci Time (w\\\\/ Swizz Beatz)', 'Down On Me (w\\\\/ 50 Cent)', 'Down On Me (w\\\\/ 50 Cent)', 'Gucci Time (w\\\\/ Swizz Beatz)', 'Gucci Time (w\\\\/ Swizz Beatz)', 'Hot Toddy (w\\\\/ Jay-Z & Ester Dean)', 'Hot Toddy (w\\\\/ Jay-Z & Ester Dean)', 'Black And Yellow', 'Aston Martin Music (w\\\\/ Drake & Chrisette Michelle)', 'Hot Toddy (w\\\\/ Jay-Z & Ester Dean)', 'Black And Yellow', 'Black And Yellow', 'Down On Me (w\\\\/ 50 Cent)', 'Gucci Time (w\\\\/ Swizz Beatz)', 'Down On Me (w\\\\/ 50 Cent)', 'Whip My Hair', 'Get Back Up (w\\\\/ Chris Brown)', 'Aston Martin Music (w\\\\/ Drake & Chrisette Michelle)', 'Whip My Hair', 'Whip My Hair', 'Black And Yellow', 'Whip My Hair', 'Gucci Time (w\\\\/ Swizz Beatz)', 'Down On Me (w\\\\/ 50 Cent)', 'Hot Toddy (w\\\\/ Jay-Z & Ester Dean)', 'Whip My Hair', 'Whip My Hair', 'Get Back Up (w\\\\/ Chris Brown)', 'Hot Toddy (w\\\\/ Jay-Z & Ester Dean)', 'Down On Me (w\\\\/ 50 Cent)', 'Aston Martin Music (w\\\\/ Drake & Chrisette Michelle)', 'Whip My Hair', 'Aston Martin Music (w\\\\/ Drake & Chrisette Michelle)', 'Black And Yellow', 'Hot Toddy (w\\\\/ Jay-Z & Ester Dean)', 'Whip My Hair', 'Whip My Hair', 'Aston Martin Music (w\\\\/ Drake & Chrisette Michelle)', 'Aston Martin Music (w\\\\/ Drake & Chrisette Michelle)', 'Gucci Time (w\\\\/ Swizz Beatz)', 'Gucci Time (w\\\\/ Swizz Beatz)', 'Black And Yellow', 'Whip My Hair', 'Get Back Up (w\\\\/ Chris Brown)', 'Aston Martin Music (w\\\\/ Drake & Chrisette Michelle)', 'Down On Me (w\\\\/ 50 Cent)', 'Get Back Up (w\\\\/ Chris Brown)', 'Black And Yellow', 'Get Back Up (w\\\\/ Chris Brown)', 'Whip My Hair', 'Gucci Time (w\\\\/ Swizz Beatz)', 'Gucci Time (w\\\\/ Swizz Beatz)', 'Get Back Up (w\\\\/ Chris Brown)', 'Down On Me (w\\\\/ 50 Cent)', 'Down On Me (w\\\\/ 50 Cent)', 'Black And Yellow', 'Black And Yellow', 'Whip My Hair', 'Aston Martin Music (w\\\\/ Drake & Chrisette Michelle)', 'Aston Martin Music (w\\\\/ Drake & Chrisette Michelle)', 'Gucci Time (w\\\\/ Swizz Beatz)', 'Down On Me (w\\\\/ 50 Cent)', 'Aston Martin Music (w\\\\/ Drake & Chrisette Michelle)', 'Gucci Time (w\\\\/ Swizz Beatz)', 'Black And Yellow', 'Gucci Time (w\\\\/ Swizz Beatz)', 'Gucci Time (w\\\\/ Swizz Beatz)', 'Hot Toddy (w\\\\/ Jay-Z & Ester Dean)', 'Black And Yellow', 'Black And Yellow', 'Aston Martin Music (w\\\\/ Drake & Chrisette Michelle)', 'Get Back Up (w\\\\/ Chris Brown)', 'Hot Toddy (w\\\\/ Jay-Z & Ester Dean)', 'Get Back Up (w\\\\/ Chris Brown)', 'Black And Yellow', 'Black And Yellow', 'Aston Martin Music (w\\\\/ Drake & Chrisette Michelle)', 'Down On Me (w\\\\/ 50 Cent)', 'Aston Martin Music (w\\\\/ Drake & Chrisette Michelle)', 'Down On Me (w\\\\/ 50 Cent)', 'Down On Me (w\\\\/ 50 Cent)', 'Down On Me (w\\\\/ 50 Cent)', 'Hot Toddy (w\\\\/ Jay-Z & Ester Dean)', 'Aston Martin Music (w\\\\/ Drake & Chrisette Michelle)', 'Gucci Time (w\\\\/ Swizz Beatz)', 'Gucci Time (w\\\\/ Swizz Beatz)', 'Black And Yellow', 'Get Back Up (w\\\\/ Chris Brown)', 'Down On Me (w\\\\/ 50 Cent)', 'Gucci Time (w\\\\/ Swizz Beatz)', 'Down On Me (w\\\\/ 50 Cent)', 'Gucci Time (w\\\\/ Swizz Beatz)', 'Down On Me (w\\\\/ 50 Cent)', 'Down On Me (w\\\\/ 50 Cent)', 'Down On Me (w\\\\/ 50 Cent)', 'Down On Me (w\\\\/ 50 Cent)', 'Down On Me (w\\\\/ 50 Cent)', 'Hot Toddy (w\\\\/ Jay-Z & Ester Dean)', 'Black And Yellow', 'Down On Me (w\\\\/ 50 Cent)', 'Down On Me (w\\\\/ 50 Cent)', 'Down On Me (w\\\\/ 50 Cent)', 'Down On Me (w\\\\/ 50 Cent)', 'Down On Me (w\\\\/ 50 Cent)', 'Down On Me (w\\\\/ 50 Cent)', 'Gucci Time (w\\\\/ Swizz Beatz)', 'Down On Me (w\\\\/ 50 Cent)', 'Gucci Time (w\\\\/ Swizz Beatz)', 'Get Back Up (w\\\\/ Chris Brown)', 'Hot Toddy (w\\\\/ Jay-Z & Ester Dean)', 'Gucci Time (w\\\\/ Swizz Beatz)', 'Down On Me (w\\\\/ 50 Cent)', 'Get Back Up (w\\\\/ Chris Brown)', 'Whip My Hair', 'Down On Me (w\\\\/ 50 Cent)', 'Aston Martin Music (w\\\\/ Drake & Chrisette Michelle)', 'Hot Toddy (w\\\\/ Jay-Z & Ester Dean)', 'Black And Yellow', 'Black And Yellow', 'Get Back Up (w\\\\/ Chris Brown)', 'Down On Me (w\\\\/ 50 Cent)', 'Down On Me (w\\\\/ 50 Cent)', 'Get Back Up (w\\\\/ Chris Brown)', 'Whip My Hair', 'Black And Yellow', 'Hot Toddy (w\\\\/ Jay-Z & Ester Dean)', 'Hot Toddy (w\\\\/ Jay-Z & Ester Dean)', 'Aston Martin Music (w\\\\/ Drake & Chrisette Michelle)', 'Aston Martin Music (w\\\\/ Drake & Chrisette Michelle)', 'Black And Yellow', 'Whip My Hair', 'Aston Martin Music (w\\\\/ Drake & Chrisette Michelle)', 'Gucci Time (w\\\\/ Swizz Beatz)', 'Black And Yellow', 'Down On Me (w\\\\/ 50 Cent)', 'Hot Toddy (w\\\\/ Jay-Z & Ester Dean)', 'Gucci Time (w\\\\/ Swizz Beatz)', 'Get Back Up (w\\\\/ Chris Brown)', 'Whip My Hair', 'Whip My Hair', 'Get Back Up (w\\\\/ Chris Brown)', 'Aston Martin Music (w\\\\/ Drake & Chrisette Michelle)', 'Gucci Time (w\\\\/ Swizz Beatz)', 'Whip My Hair', 'Get Back Up (w\\\\/ Chris Brown)', 'Hot Toddy (w\\\\/ Jay-Z & Ester Dean)', 'Aston Martin Music (w\\\\/ Drake & Chrisette Michelle)', 'Hot Toddy (w\\\\/ Jay-Z & Ester Dean)', 'Hot Toddy (w\\\\/ Jay-Z & Ester Dean)', 'Black And Yellow', 'Hot Toddy (w\\\\/ Jay-Z & Ester Dean)', 'Hot Toddy (w\\\\/ Jay-Z & Ester Dean)', 'Black And Yellow', 'Down On Me (w\\\\/ 50 Cent)', 'Aston Martin Music (w\\\\/ Drake & Chrisette Michelle)', 'Black And Yellow', 'Hot Toddy (w\\\\/ Jay-Z & Ester Dean)', 'Hot Toddy (w\\\\/ Jay-Z & Ester Dean)', 'Hot Toddy (w\\\\/ Jay-Z & Ester Dean)', 'Gucci Time (w\\\\/ Swizz Beatz)', 'Down On Me (w\\\\/ 50 Cent)', 'Down On Me (w\\\\/ 50 Cent)', 'Get Back Up (w\\\\/ Chris Brown)', 'Down On Me (w\\\\/ 50 Cent)', 'Down On Me (w\\\\/ 50 Cent)', 'Down On Me (w\\\\/ 50 Cent)', 'Down On Me (w\\\\/ 50 Cent)', 'Black And Yellow', 'Get Back Up (w\\\\/ Chris Brown)', 'Gucci Time (w\\\\/ Swizz Beatz)', 'Down On Me (w\\\\/ 50 Cent)', 'Down On Me (w\\\\/ 50 Cent)', 'Black And Yellow', 'Black And Yellow', 'Hot Toddy (w\\\\/ Jay-Z & Ester Dean)', 'Hot Toddy (w\\\\/ Jay-Z & Ester Dean)', 'Gucci Time (w\\\\/ Swizz Beatz)', 'Gucci Time (w\\\\/ Swizz Beatz)', 'Gucci Time (w\\\\/ Swizz Beatz)', 'Gucci Time (w\\\\/ Swizz Beatz)', 'Down On Me (w\\\\/ 50 Cent)', 'Down On Me (w\\\\/ 50 Cent)', 'Down On Me (w\\\\/ 50 Cent)', 'Gucci Time (w\\\\/ Swizz Beatz)', 'Down On Me (w\\\\/ 50 Cent)', 'Gucci Time (w\\\\/ Swizz Beatz)', 'Down On Me (w\\\\/ 50 Cent)', 'Down On Me (w\\\\/ 50 Cent)', 'Black And Yellow', 'Aston Martin Music (w\\\\/ Drake & Chrisette Michelle)', 'Down On Me (w\\\\/ 50 Cent)', 'Gucci Time (w\\\\/ Swizz Beatz)', 'Black And Yellow', 'Black And Yellow', 'Black And Yellow', 'Down On Me (w\\\\/ 50 Cent)', 'Black And Yellow', 'Black And Yellow', 'Get Back Up (w\\\\/ Chris Brown)', 'Aston Martin Music (w\\\\/ Drake & Chrisette Michelle)', 'Get Back Up (w\\\\/ Chris Brown)', 'Get Back Up (w\\\\/ Chris Brown)', 'Get Back Up (w\\\\/ Chris Brown)', 'Hot Toddy (w\\\\/ Jay-Z & Ester Dean)', 'Hot Toddy (w\\\\/ Jay-Z & Ester Dean)', 'Whip My Hair', 'Whip My Hair', 'Get Back Up (w\\\\/ Chris Brown)', 'Hot Toddy (w\\\\/ Jay-Z & Ester Dean)', 'Whip My Hair', 'Whip My Hair', 'Get Back Up (w\\\\/ Chris Brown)', 'Hot Toddy (w\\\\/ Jay-Z & Ester Dean)', 'Hot Toddy (w\\\\/ Jay-Z & Ester Dean)', 'Get Back Up (w\\\\/ Chris Brown)', 'Whip My Hair', 'Black And Yellow', 'Aston Martin Music (w\\\\/ Drake & Chrisette Michelle)', 'Whip My Hair', 'Get Back Up (w\\\\/ Chris Brown)', 'Get Back Up (w\\\\/ Chris Brown)', 'Get Back Up (w\\\\/ Chris Brown)', 'Hot Toddy (w\\\\/ Jay-Z & Ester Dean)', 'Aston Martin Music (w\\\\/ Drake & Chrisette Michelle)', 'Black And Yellow', 'Gucci Time (w\\\\/ Swizz Beatz)', 'Down On Me (w\\\\/ 50 Cent)', 'Aston Martin Music (w\\\\/ Drake & Chrisette Michelle)', 'Hot Toddy (w\\\\/ Jay-Z & Ester Dean)', 'Aston Martin Music (w\\\\/ Drake & Chrisette Michelle)', 'Gucci Time (w\\\\/ Swizz Beatz)', 'Hot Toddy (w\\\\/ Jay-Z & Ester Dean)', 'Whip My Hair', 'Hot Toddy (w\\\\/ Jay-Z & Ester Dean)', 'Get Back Up (w\\\\/ Chris Brown)', 'Black And Yellow', 'Gucci Time (w\\\\/ Swizz Beatz)', 'Aston Martin Music (w\\\\/ Drake & Chrisette Michelle)', 'Aston Martin Music (w\\\\/ Drake & Chrisette Michelle)', 'Whip My Hair', 'Down On Me (w\\\\/ 50 Cent)', 'Aston Martin Music (w\\\\/ Drake & Chrisette Michelle)', 'Whip My Hair', 'Down On Me (w\\\\/ 50 Cent)', 'Aston Martin Music (w\\\\/ Drake & Chrisette Michelle)', 'Gucci Time (w\\\\/ Swizz Beatz)', 'Aston Martin Music (w\\\\/ Drake & Chrisette Michelle)', 'Get Back Up (w\\\\/ Chris Brown)', 'Get Back Up (w\\\\/ Chris Brown)', 'Black And Yellow', 'Hot Toddy (w\\\\/ Jay-Z & Ester Dean)', 'Down On Me (w\\\\/ 50 Cent)', 'Whip My Hair', 'Down On Me (w\\\\/ 50 Cent)', 'Whip My Hair', 'Down On Me (w\\\\/ 50 Cent)', 'Get Back Up (w\\\\/ Chris Brown)', 'Get Back Up (w\\\\/ Chris Brown)', 'Get Back Up (w\\\\/ Chris Brown)', 'Black And Yellow', 'Get Back Up (w\\\\/ Chris Brown)', 'Down On Me (w\\\\/ 50 Cent)', 'Black And Yellow', 'Aston Martin Music (w\\\\/ Drake & Chrisette Michelle)', 'Aston Martin Music (w\\\\/ Drake & Chrisette Michelle)', 'Whip My Hair', 'Down On Me (w\\\\/ 50 Cent)', 'Get Back Up (w\\\\/ Chris Brown)', 'Aston Martin Music (w\\\\/ Drake & Chrisette Michelle)', 'Aston Martin Music (w\\\\/ Drake & Chrisette Michelle)', 'Whip My Hair', 'Hot Toddy (w\\\\/ Jay-Z & Ester Dean)', 'Aston Martin Music (w\\\\/ Drake & Chrisette Michelle)', 'Whip My Hair', 'Aston Martin Music (w\\\\/ Drake & Chrisette Michelle)', 'Black And Yellow', 'Gucci Time (w\\\\/ Swizz Beatz)', 'Black And Yellow', 'Black And Yellow', 'Hot Toddy (w\\\\/ Jay-Z & Ester Dean)', 'Black And Yellow', 'Hot Toddy (w\\\\/ Jay-Z & Ester Dean)', 'Black And Yellow', 'Whip My Hair', 'Whip My Hair', 'Black And Yellow', 'Down On Me (w\\\\/ 50 Cent)', 'Get Back Up (w\\\\/ Chris Brown)', 'Hot Toddy (w\\\\/ Jay-Z & Ester Dean)', 'Hot Toddy (w\\\\/ Jay-Z & Ester Dean)', 'Black And Yellow', 'Black And Yellow', 'Black And Yellow', 'Down On Me (w\\\\/ 50 Cent)', 'Gucci Time (w\\\\/ Swizz Beatz)', 'Whip My Hair', 'Get Back Up (w\\\\/ Chris Brown)', 'Get Back Up (w\\\\/ Chris Brown)', 'Down On Me (w\\\\/ 50 Cent)', 'Gucci Time (w\\\\/ Swizz Beatz)', 'Down On Me (w\\\\/ 50 Cent)', 'Whip My Hair', 'Hot Toddy (w\\\\/ Jay-Z & Ester Dean)', 'Black And Yellow', 'Get Back Up (w\\\\/ Chris Brown)', 'Get Back Up (w\\\\/ Chris Brown)', 'Aston Martin Music (w\\\\/ Drake & Chrisette Michelle)', 'Down On Me (w\\\\/ 50 Cent)', 'Down On Me (w\\\\/ 50 Cent)', 'Down On Me (w\\\\/ 50 Cent)', 'Gucci Time (w\\\\/ Swizz Beatz)', 'Down On Me (w\\\\/ 50 Cent)', 'Get Back Up (w\\\\/ Chris Brown)', 'Black And Yellow', 'Gucci Time (w\\\\/ Swizz Beatz)', 'Hot Toddy (w\\\\/ Jay-Z & Ester Dean)', 'Down On Me (w\\\\/ 50 Cent)', 'Aston Martin Music (w\\\\/ Drake & Chrisette Michelle)', 'Gucci Time (w\\\\/ Swizz Beatz)', 'Down On Me (w\\\\/ 50 Cent)', 'Whip My Hair', 'Black And Yellow', 'Black And Yellow', 'Aston Martin Music (w\\\\/ Drake & Chrisette Michelle)', 'Black And Yellow', 'Get Back Up (w\\\\/ Chris Brown)', 'Gucci Time (w\\\\/ Swizz Beatz)', 'Down On Me (w\\\\/ 50 Cent)', 'Whip My Hair', 'Down On Me (w\\\\/ 50 Cent)', 'Aston Martin Music (w\\\\/ Drake & Chrisette Michelle)', 'Aston Martin Music (w\\\\/ Drake & Chrisette Michelle)', 'Get Back Up (w\\\\/ Chris Brown)', 'Get Back Up (w\\\\/ Chris Brown)', 'Hot Toddy (w\\\\/ Jay-Z & Ester Dean)', 'Hot Toddy (w\\\\/ Jay-Z & Ester Dean)', 'Black And Yellow', 'Down On Me (w\\\\/ 50 Cent)', 'Whip My Hair', 'Gucci Time (w\\\\/ Swizz Beatz)', 'Down On Me (w\\\\/ 50 Cent)', 'Down On Me (w\\\\/ 50 Cent)', 'Down On Me (w\\\\/ 50 Cent)', 'Down On Me (w\\\\/ 50 Cent)', 'Aston Martin Music (w\\\\/ Drake & Chrisette Michelle)', 'Aston Martin Music (w\\\\/ Drake & Chrisette Michelle)', 'Hot Toddy (w\\\\/ Jay-Z & Ester Dean)', 'Down On Me (w\\\\/ 50 Cent)', 'Gucci Time (w\\\\/ Swizz Beatz)', 'Down On Me (w\\\\/ 50 Cent)', 'Gucci Time (w\\\\/ Swizz Beatz)', 'Gucci Time (w\\\\/ Swizz Beatz)', 'Down On Me (w\\\\/ 50 Cent)', 'Down On Me (w\\\\/ 50 Cent)', 'Hot Toddy (w\\\\/ Jay-Z & Ester Dean)', 'Get Back Up (w\\\\/ Chris Brown)', 'Black And Yellow', 'Hot Toddy (w\\\\/ Jay-Z & Ester Dean)', 'Get Back Up (w\\\\/ Chris Brown)', 'Get Back Up (w\\\\/ Chris Brown)', 'Black And Yellow']\n",
      "End state after  400  days:  Black And Yellow\n",
      "Probability of the possible sequence of states:  0.0\n"
     ],
     "output_type": "stream"
    }
   ],
   "source": [
    "# Function that forecasts the possible state for the next 2 days\n",
    "playlist_generator(400, 5)\n",
    "\n",
    "\n",
    "\n",
    "\n"
   ],
   "metadata": {
    "collapsed": false,
    "pycharm": {
     "name": "#%%\n",
     "is_executing": false
    }
   }
  }
 ],
 "metadata": {
  "kernelspec": {
   "display_name": "Python 3",
   "language": "python",
   "name": "python3"
  },
  "language_info": {
   "codemirror_mode": {
    "name": "ipython",
    "version": 3
   },
   "file_extension": ".py",
   "mimetype": "text/x-python",
   "name": "python",
   "nbconvert_exporter": "python",
   "pygments_lexer": "ipython3",
   "version": "3.7.2"
  },
  "pycharm": {
   "stem_cell": {
    "cell_type": "raw",
    "source": [],
    "metadata": {
     "collapsed": false
    }
   }
  }
 },
 "nbformat": 4,
 "nbformat_minor": 2
}