{
 "cells": [
  {
   "cell_type": "code",
   "execution_count": 25,
   "metadata": {
    "pycharm": {
     "is_executing": false
    }
   },
   "outputs": [],
   "source": [
    "import os\n",
    "import random as rnd\n",
    "\n",
    "import numpy as np\n",
    "import pandas as pd \n",
    "import pgutils as pg"
   ]
  },
  {
   "cell_type": "code",
   "execution_count": 26,
   "outputs": [],
   "source": [
    "root_dir = r'C:\\Users\\eleon\\PycharmProjects\\SM_Exam\\data\\yes_small'\n",
    "#root_dir = './data/yes_small'"
   ],
   "metadata": {
    "collapsed": false,
    "pycharm": {
     "name": "#%%\n",
     "is_executing": false
    }
   }
  },
  {
   "cell_type": "code",
   "execution_count": 27,
   "metadata": {
    "pycharm": {
     "is_executing": false
    }
   },
   "outputs": [],
   "source": [
    "test_data=[]\n",
    "with open(os.path.join(root_dir, 'test.txt')) as f:\n",
    "#with open(root_dir + \"\\\\test.txt\", \"r\") as f:\n",
    "\n",
    "    test_data=f.readlines()\n",
    "    \n",
    "test_dataset = pg.data_to_list(test_data[2:])\n"
   ]
  },
  {
   "cell_type": "code",
   "execution_count": 4,
   "metadata": {
    "pycharm": {
     "is_executing": false
    }
   },
   "outputs": [
    {
     "traceback": [
      "\u001b[0;31m---------------------------------------------------------------------------\u001b[0m",
      "\u001b[0;31mNameError\u001b[0m                                 Traceback (most recent call last)",
      "\u001b[0;32m<ipython-input-4-1d8b67802687>\u001b[0m in \u001b[0;36m<module>\u001b[0;34m\u001b[0m\n\u001b[1;32m      3\u001b[0m     \u001b[0mtrain_data\u001b[0m\u001b[0;34m=\u001b[0m\u001b[0mf\u001b[0m\u001b[0;34m.\u001b[0m\u001b[0mreadlines\u001b[0m\u001b[0;34m(\u001b[0m\u001b[0;34m)\u001b[0m\u001b[0;34m\u001b[0m\u001b[0;34m\u001b[0m\u001b[0m\n\u001b[1;32m      4\u001b[0m \u001b[0;34m\u001b[0m\u001b[0m\n\u001b[0;32m----> 5\u001b[0;31m \u001b[0mtrain_dataset\u001b[0m \u001b[0;34m=\u001b[0m \u001b[0mpg\u001b[0m\u001b[0;34m.\u001b[0m\u001b[0mdata_to_list\u001b[0m\u001b[0;34m(\u001b[0m\u001b[0mtrain_data\u001b[0m\u001b[0;34m[\u001b[0m\u001b[0;36m2\u001b[0m\u001b[0;34m:\u001b[0m\u001b[0;34m]\u001b[0m\u001b[0;34m)\u001b[0m\u001b[0;34m\u001b[0m\u001b[0;34m\u001b[0m\u001b[0m\n\u001b[0m\u001b[1;32m      6\u001b[0m \u001b[0;34m\u001b[0m\u001b[0m\n",
      "\u001b[0;31mNameError\u001b[0m: name 'pg' is not defined"
     ],
     "ename": "NameError",
     "evalue": "name 'pg' is not defined",
     "output_type": "error"
    }
   ],
   "source": [
    "train_data=[]\n",
    "with open(os.path.join(root_dir,\"train.txt\"), \"r\") as f:\n",
    "    train_data=f.readlines()\n",
    "    \n",
    "train_dataset = pg.data_to_list(train_data[2:])"
   ]
  },
  {
   "cell_type": "code",
   "execution_count": 5,
   "metadata": {
    "pycharm": {
     "is_executing": false
    }
   },
   "outputs": [],
   "source": [
    "song_hash = pd.read_csv(os.path.join(root_dir,\"song_hash.txt\"), sep=\"\\t\", header=None)\n"
   ]
  },
  {
   "cell_type": "code",
   "execution_count": null,
   "metadata": {},
   "outputs": [],
   "source": [
    "U_old = np.random.rand(S,d)\n",
    "U_new = np.empty_like(U_old)\n",
    "V_old = np.random.rand(S,d)\n",
    "V_new = np.empty_like(V_old)\n",
    "#tau predefined learning rate\n",
    "tau = 0.5\n",
    "#number of transitions in the training set\n",
    "N=np.sum(T)\n",
    "\n",
    "#try for 100-200 iterations\n",
    "for k in range(200):\n",
    "    \n",
    "    D2_mat = delta2(U_old,V_old)\n",
    "    Zr_vec = zeta2_r(a,U_old, V_old, D2_mat,C_r)\n",
    "    dif_mat = difMat(U_old, V_old, S, d)\n",
    "    \n",
    "    #print(Z2_vec)\n",
    "    \n",
    "    updateU(S, Zr_vec, D2_mat, T, U_new, U_old, V_old, tau, N, dif_mat)\n",
    "    updateV(S, Zr_vec, D2_mat, T,U_old, V_new, V_old, tau, N, dif_mat)\n",
    "    \n",
    "    U_new, U_old = U_old, U_new\n",
    "    V_new, V_old = V_old, V_new\n",
    "    if k==10:\n",
    "        landmarkGenerator(S)\n",
    "#empirically update landmarks every 10 iterations\n",
    "#A iteration means a full pass on the training dataset.\n",
    "#fix the landmarks after 100 iteration to ensure convergence   "
   ]
  },
  {
   "cell_type": "code",
   "execution_count": 17,
   "metadata": {},
   "outputs": [],
   "source": [
    "# Compute and print the log-likelihood\n",
    "#We evaluate test performance using the average log-likelihood as our metric. \n",
    "#It is deﬁned as log(Pr(Dtest))/Ntest, \n",
    "#where Ntest is the number of transitions in test set\n"
   ]
  },
  {
   "cell_type": "code",
   "execution_count": 38,
   "metadata": {
    "pycharm": {
     "name": "#%%\n"
    }
   },
   "outputs": [],
   "source": [
    "#setto i parametri\n",
    "d=5;\n",
    "S=max([])\n",
    "l=rnd.choice([0.0001, 0.001, 0.01, 0.1, 1, 10, 20, 50, 100, 500, 1000])\n",
    "ni=rnd.choice([0,l])\n",
    "r=8\n",
    "n_landmarks=50\n",
    "n_iters=rnd.choice([100,200])\n",
    "tollerance=#da definire\n",
    "\n",
    "def EMC(song_hash,train_dataset,r,n_landmarks):\n",
    "    #1,definisco le funzioni di inizializzazione\n",
    "    S=len(song_hash[0].values)\n",
    "    U_old=np.random.rand(S,d)\n",
    "    V_old=np.random.rand(S,d)\n",
    "    U_new=np.empty_like(U_old)\n",
    "    V_new=np.empty_like(V_old)\n",
    "    T=pg.transition_count(S,train_dataset)\n",
    "    C=landmarkInizialization(r,n_landmarks,S,T)\n",
    "    C_rs=landmarkThresholdExtention(S,r,n_landmarks,C)    \n",
    "    \n",
    "    for iter in range(n_iters):\n",
    "        #2,update dei landmarks\n",
    "        if (iter%10==0 & iter<100):\n",
    "            C=updateLandmarks(r,S,C)\n",
    "        #3,Update U e V (new or old?)\n",
    "        U_old=update(U_old)\n",
    "        V_old=update(V_old)\n",
    "        #4,criterio d'arresto\n",
    "        if (stopCriteria(U_new,U_old)>tollerance | stopCriteria(V_new,V_old)>tollerance):\n",
    "            break\n",
    "        #5,swap matrix\n",
    "        U_new, U_old = U_old, U_new\n",
    "        V_new, V_old = V_old, V_new\n"
   ]
  }
 ],
 "metadata": {
  "kernelspec": {
   "display_name": "Python 3",
   "language": "python",
   "name": "python3"
  },
  "language_info": {
   "codemirror_mode": {
    "name": "ipython",
    "version": 3
   },
   "file_extension": ".py",
   "mimetype": "text/x-python",
   "name": "python",
   "nbconvert_exporter": "python",
   "pygments_lexer": "ipython3",
   "version": "3.7.2"
  },
  "pycharm": {
   "stem_cell": {
    "cell_type": "raw",
    "source": [],
    "metadata": {
     "collapsed": false
    }
   }
  }
 },
 "nbformat": 4,
 "nbformat_minor": 2
}