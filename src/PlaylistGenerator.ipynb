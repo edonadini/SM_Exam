{
 "cells": [
  {
   "cell_type": "code",
   "execution_count": 1,
   "metadata": {
    "collapsed": false,
    "pycharm": {
     "is_executing": false,
     "name": "#%%\n"
    }
   },
   "outputs": [],
   "source": [
    "import pglaststeps as sm\n",
    "import numpy as np"
   ]
  },
  {
   "cell_type": "code",
   "execution_count": 2,
   "metadata": {
    "collapsed": false,
    "pycharm": {
     "name": "#%%\n"
    }
   },
   "outputs": [],
   "source": [
    "#directory = r'C:\\Users\\eleon\\PycharmProjects\\SM_Exam\\data\\yes_small'\n",
    "directory = '../data/yes_small'\n",
    "#directory = '../data/yes_big'\n",
    "\n",
    "output_file = 'latent_representation.csv'"
   ]
  },
  {
   "cell_type": "code",
   "execution_count": 3,
   "metadata": {
    "collapsed": false,
    "pycharm": {
     "is_executing": false,
     "name": "#%%\n"
    }
   },
   "outputs": [],
   "source": [
    "dimensions = [2, 5, 10, 25, 50, 100]\n",
    "lams = [0.0001, 0.001, 0.01, 0.1, 1, 10, 20, 50, 100, 500, 1000]\n",
    "rs = [0.1, 0.2, 0.3, 0.4, 0.5]\n",
    "n_iters = [100, 200]\n",
    "n_song = 4\n",
    "start_song = 5\n",
    "\n",
    "dimension = 10\n",
    "lam = 0\n",
    "r = 0.3\n",
    "n_iter = 20\n",
    "tau = 0"
   ]
  },
  {
   "cell_type": "code",
   "execution_count": null,
   "metadata": {
    "collapsed": false,
    "pycharm": {
     "name": "#%%\n"
    }
   },
   "outputs": [],
   "source": [
    "sm.latent_representation(output_file, directory, dimension, lam, n_iter, tau, r=r)\n",
    "\n",
    "#sm.tran_matrix('./latent_representation.csv')\n",
    "#pg.playlist_generator(10, 30, 2200)"
   ]
  }
 ],
 "metadata": {
  "kernelspec": {
   "display_name": "Python 3",
   "language": "python",
   "name": "python3"
  },
  "language_info": {
   "codemirror_mode": {
    "name": "ipython",
    "version": 3
   },
   "file_extension": ".py",
   "mimetype": "text/x-python",
   "name": "python",
   "nbconvert_exporter": "python",
   "pygments_lexer": "ipython3",
   "version": "3.7.2"
  },
  "pycharm": {
   "stem_cell": {
    "cell_type": "raw",
    "source": [],
    "metadata": {
     "collapsed": false
    }
   }
  }
 },
 "nbformat": 4,
 "nbformat_minor": 2
}