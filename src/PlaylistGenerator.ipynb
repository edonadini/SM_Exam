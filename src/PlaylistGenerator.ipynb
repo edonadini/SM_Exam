{
 "cells": [
  {
   "cell_type": "code",
   "execution_count": 1,
   "metadata": {
    "pycharm": {
     "is_executing": false
    }
   },
   "outputs": [],
   "source": [
    "import os\n",
    "import random as rnd\n",
    "import pandas as pd \n",
    "\n",
    "import pgutils as pg\n",
    "import pgmath as pm\n",
    "import algorithm as al\n",
    "import numpy as np"
   ]
  },
  {
   "cell_type": "code",
   "execution_count": 84,
   "outputs": [],
   "source": [
    "root_dir = r'C:\\Users\\eleon\\PycharmProjects\\SM_Exam\\data\\yes_small'\n",
    "#root_dir = './data/yes_small'"
   ],
   "metadata": {
    "collapsed": false,
    "pycharm": {
     "name": "#%%\n",
     "is_executing": false
    }
   }
  },
  {
   "cell_type": "code",
   "execution_count": 85,
   "metadata": {
    "pycharm": {
     "is_executing": false
    }
   },
   "outputs": [],
   "source": [
    "#test_data=[]\n",
    "with open(os.path.join(root_dir, 'test.txt')) as f:\n",
    "#with open(root_dir + \"\\\\test.txt\", \"r\") as f:\n",
    "\n",
    "    test_data = f.readlines()\n",
    "    \n",
    "test_dataset = pg.data_to_list(test_data[2:])"
   ]
  },
  {
   "cell_type": "code",
   "execution_count": 86,
   "metadata": {
    "pycharm": {
     "is_executing": false
    }
   },
   "outputs": [],
   "source": [
    "#train_data=[]\n",
    "with open(os.path.join(root_dir,\"train.txt\"), \"r\") as f:\n",
    "    train_data = f.readlines()\n",
    "    \n",
    "#train_dataset = pg.data_to_list(train_data[2:])"
   ]
  },
  {
   "cell_type": "code",
   "execution_count": 87,
   "metadata": {
    "pycharm": {
     "is_executing": false
    }
   },
   "outputs": [],
   "source": [
    "song_hash = pd.read_csv(os.path.join(root_dir,\"song_hash.txt\"), sep=\"\\t\", header=None)\n"
   ]
  },
  {
   "cell_type": "code",
   "execution_count": 2,
   "outputs": [],
   "source": [
    "# setting parameters\n",
    "dimension = 2#rnd.choice([2, 5,10,25,50,100])\n",
    "# regularization parameter set by cross validation\n",
    "lam = rnd.choice([0.0001, 0.001, 0.01, 0.1, 1, 10, 20, 50, 100, 500, 1000])\n",
    "# regularization parameter for dual point model\n",
    "nu = rnd.choice([0, lam])\n",
    "# threshold for landmark dimension\n",
    "r = 0.2\n",
    "# number of landmark\n",
    "n_landmarks = 3#50\n",
    "# num iteration 100 o 200\n",
    "n_iter = 20 #rnd.choice([100, 200])\n",
    "# tau predefined learning rate\n",
    "tau = 0.5"
   ],
   "metadata": {
    "collapsed": false,
    "pycharm": {
     "name": "#%%\n",
     "is_executing": false
    }
   }
  },
  {
   "cell_type": "code",
   "execution_count": 3,
   "outputs": [],
   "source": [
    "toy_dataset=[[0,6,3,2,1,4,2],[2,0,6,5,6,3,0],[0,5,2,1,6],[5,6,2],[6,5,2,3,5,6,2]]\n",
    "\n",
    "songs = 7\n",
    "transition_matrix = pg.transition_count(songs, toy_dataset)\n",
    "position = np.random.rand(songs, dimension)\n",
    "num_transition = np.sum(transition_matrix)\n",
    "params = pm.AlgParams(lam, nu, tau, num_transition, n_landmarks, r, dimension, n_iter)"
   ],
   "metadata": {
    "collapsed": false,
    "pycharm": {
     "name": "#%%\n",
     "is_executing": false
    }
   }
  },
  {
   "cell_type": "code",
   "execution_count": 4,
   "outputs": [
    {
     "data": {
      "text/plain": "array([[-1.55832796, -1.81524439],\n       [-2.82770997, -2.32054658],\n       [-2.33573496, -0.13844331],\n       [-3.44975346, -2.03886687],\n       [-0.88815198, -0.83918209],\n       [-1.3272737 , -2.18839614],\n       [-0.57908441, -1.27120958]])"
     },
     "metadata": {},
     "output_type": "execute_result",
     "execution_count": 4
    }
   ],
   "source": [
    "al.single_point_algorithm(songs, transition_matrix, params)"
   ],
   "metadata": {
    "collapsed": false,
    "pycharm": {
     "name": "#%%\n",
     "is_executing": false
    }
   }
  },
  {
   "cell_type": "code",
   "execution_count": null,
   "outputs": [],
   "source": [
    "# evaluate test performance using the average log-likelihood as metric\n",
    "# it is defined as log(Pr(d_test))/n_test)\n",
    "# n_test number of transition in the test set\n",
    "songs = len(song_hash)\n",
    "n_test = np.sum(pg.transition_count(songs,test_dataset))\n",
    "#result = sum( sum(dimension.D[s, i.index()] ) for i in range(len(test_dataset)))  "
   ],
   "metadata": {
    "collapsed": false,
    "pycharm": {
     "name": "#%%\n",
     "is_executing": false
    }
   }
  }
 ],
 "metadata": {
  "kernelspec": {
   "display_name": "Python 3",
   "language": "python",
   "name": "python3"
  },
  "language_info": {
   "codemirror_mode": {
    "name": "ipython",
    "version": 3
   },
   "file_extension": ".py",
   "mimetype": "text/x-python",
   "name": "python",
   "nbconvert_exporter": "python",
   "pygments_lexer": "ipython3",
   "version": "3.7.2"
  },
  "pycharm": {
   "stem_cell": {
    "cell_type": "raw",
    "source": [],
    "metadata": {
     "collapsed": false
    }
   }
  }
 },
 "nbformat": 4,
 "nbformat_minor": 2
}