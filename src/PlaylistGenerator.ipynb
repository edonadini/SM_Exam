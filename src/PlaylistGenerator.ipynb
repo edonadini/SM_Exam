{
 "cells": [
  {
   "cell_type": "code",
   "execution_count": 1,
   "metadata": {
    "pycharm": {
     "is_executing": false
    }
   },
   "outputs": [],
   "source": [
    "import os\n",
    "import random as rnd\n",
    "import pandas as pd \n",
    "\n",
    "import pgutils as pg\n",
    "import pgmath as pm\n",
    "import algorithm as al\n",
    "import numpy as np"
   ]
  },
  {
   "cell_type": "code",
   "execution_count": 2,
   "outputs": [],
   "source": [
    "root_dir = r'C:\\Users\\eleon\\PycharmProjects\\SM_Exam\\data\\yes_small'\n",
    "#root_dir = './data/yes_small'"
   ],
   "metadata": {
    "collapsed": false,
    "pycharm": {
     "name": "#%%\n",
     "is_executing": false
    }
   }
  },
  {
   "cell_type": "code",
   "execution_count": 3,
   "metadata": {
    "pycharm": {
     "is_executing": false
    }
   },
   "outputs": [],
   "source": [
    "#test_data=[]\n",
    "with open(os.path.join(root_dir, 'test.txt')) as f:\n",
    "#with open(root_dir + \"\\\\test.txt\", \"r\") as f:\n",
    "\n",
    "    test_data = f.readlines()\n",
    "    \n",
    "test_dataset = pg.data_to_list(test_data[2:])"
   ]
  },
  {
   "cell_type": "code",
   "execution_count": 4,
   "metadata": {
    "pycharm": {
     "is_executing": false
    }
   },
   "outputs": [],
   "source": [
    "#train_data=[]\n",
    "with open(os.path.join(root_dir,\"train.txt\"), \"r\") as f:\n",
    "    train_data = f.readlines()\n",
    "    \n",
    "#train_dataset = pg.data_to_list(train_data[2:])"
   ]
  },
  {
   "cell_type": "code",
   "execution_count": 5,
   "metadata": {
    "pycharm": {
     "is_executing": false
    }
   },
   "outputs": [],
   "source": [
    "song_hash = pd.read_csv(os.path.join(root_dir,\"song_hash.txt\"), sep=\"\\t\", header=None)\n"
   ]
  },
  {
   "cell_type": "code",
   "execution_count": 6,
   "outputs": [],
   "source": [
    "# setting parameters\n",
    "dimension = 2#rnd.choice([2, 5,10,25,50,100])\n",
    "# regularization parameter set by cross validation\n",
    "lam = rnd.choice([0.0001, 0.001, 0.01, 0.1, 1, 10, 20, 50, 100, 500, 1000])\n",
    "# regularization parameter for dual point model\n",
    "nu = rnd.choice([0, lam])\n",
    "# threshold for landmark dimension\n",
    "r = 0.2\n",
    "# number of landmark\n",
    "n_landmarks = 3#50\n",
    "# num iteration 100 o 200\n",
    "n_iter = 60 #rnd.choice([100, 200])\n",
    "# tau predefined learning rate\n",
    "tau = 0.5"
   ],
   "metadata": {
    "collapsed": false,
    "pycharm": {
     "name": "#%%\n",
     "is_executing": false
    }
   }
  },
  {
   "cell_type": "code",
   "execution_count": 7,
   "outputs": [],
   "source": [
    "toy_dataset=[[0,6,3,2,1,4,2],[2,0,6,5,6,3,0],[0,5,2,1,6],[5,6,2],[6,5,2,3,5,6,2]]\n",
    "\n",
    "songs = 7\n",
    "transition_matrix = pg.transition_count(songs, toy_dataset)\n",
    "position = np.random.rand(songs, dimension)\n",
    "num_transition = np.sum(transition_matrix)\n",
    "params = pm.AlgParams(lam, nu, tau, num_transition, n_landmarks, r, dimension, n_iter)"
   ],
   "metadata": {
    "collapsed": false,
    "pycharm": {
     "name": "#%%\n",
     "is_executing": false
    }
   }
  },
  {
   "cell_type": "code",
   "execution_count": 8,
   "outputs": [
    {
     "name": "stdout",
     "text": [
      "0\n",
      "1\n"
     ],
     "output_type": "stream"
    }
   ],
   "source": [
    "X = al.single_point_algorithm(songs, transition_matrix, params)"
   ],
   "metadata": {
    "collapsed": false,
    "pycharm": {
     "name": "#%%\n",
     "is_executing": false
    }
   }
  },
  {
   "cell_type": "code",
   "execution_count": 9,
   "outputs": [],
   "source": [
    "dummy_landmarks = [[i for i in range(songs)] for j in range(songs)]\n",
    "d2 = pm.Distances.delta(X)\n",
    "prob_matrix = np.exp(-d2)/pm.Distances.zeta(d2,X,dummy_landmarks)\n",
    "cum_sum = np.sum(prob_matrix, axis=1)\n",
    "prob_matrix = prob_matrix / cum_sum[:,np.newaxis]"
   ],
   "metadata": {
    "collapsed": false,
    "pycharm": {
     "name": "#%%\n",
     "is_executing": false
    }
   }
  },
  {
   "cell_type": "code",
   "execution_count": 10,
   "outputs": [
    {
     "name": "stdout",
     "text": [
      "cum [0.98411027 0.82799826 0.77853495 0.80357572 0.96692714 0.87388325\n",
      " 0.98741885]\n",
      "sum norm [1. 1. 1. 1. 1. 1. 1.]\n",
      "0.9999999999999998\n"
     ],
     "output_type": "stream"
    }
   ],
   "source": [
    "print('cum',cum_sum)\n",
    "print('sum norm', np.sum(prob_matrix, axis=1))\n",
    "#print('sum row ',np.sum(prob_matrix/cum_sum[0], axis=0))\n",
    "print(np.sum(prob_matrix[1]))"
   ],
   "metadata": {
    "collapsed": false,
    "pycharm": {
     "name": "#%%\n",
     "is_executing": false
    }
   }
  },
  {
   "cell_type": "code",
   "execution_count": 11,
   "outputs": [
    {
     "name": "stdout",
     "text": [
      "[[0.18517481 0.10331874 0.12013696 0.10792529 0.17160203 0.15614964\n",
      "  0.15569253]\n",
      " [0.09713087 0.27824824 0.1254254  0.20512436 0.09839727 0.08683349\n",
      "  0.10884037]\n",
      " [0.11187989 0.12424609 0.31771508 0.10030235 0.10441071 0.13138931\n",
      "  0.11005657]\n",
      " [0.09892294 0.1999921  0.09872099 0.3029996  0.10428702 0.08427472\n",
      "  0.11080263]\n",
      " [0.17191616 0.10485742 0.11232177 0.1139858  0.19146424 0.14809756\n",
      "  0.15735706]\n",
      " [0.15694156 0.09283379 0.14180177 0.09241033 0.14857666 0.23364992\n",
      "  0.13378597]\n",
      " [0.15954008 0.11863529 0.12109958 0.12387349 0.16095112 0.1364004\n",
      "  0.17950005]]\n",
      "[0.98150631 1.02213168 1.03722155 1.04662122 0.97968904 0.97679504\n",
      " 0.95603517]\n"
     ],
     "output_type": "stream"
    }
   ],
   "source": [
    "print(prob_matrix)\n",
    "print(np.sum(prob_matrix, axis=0))"
   ],
   "metadata": {
    "collapsed": false,
    "pycharm": {
     "name": "#%%\n",
     "is_executing": false
    }
   }
  },
  {
   "cell_type": "code",
   "execution_count": 12,
   "outputs": [
    {
     "name": "stdout",
     "text": [
      "11.0\n"
     ],
     "output_type": "stream"
    }
   ],
   "source": [
    "toy_test=[[0,4,5,3,6],[4,3,2,6],[0,2,1,0,5]]\n",
    "# evaluate test performance using the average log-likelihood as metric\n",
    "# it is defined as log(Pr(d_test))/n_test)\n",
    "# n_test number of transition in the test set\n",
    "songs = 7 #len(song_hash)\n",
    "n_test = np.sum(pg.transition_count(songs,toy_test))\n",
    "print(n_test)"
   ],
   "metadata": {
    "collapsed": false,
    "pycharm": {
     "name": "#%%\n",
     "is_executing": false
    }
   }
  },
  {
   "cell_type": "code",
   "execution_count": 13,
   "outputs": [
    {
     "name": "stdout",
     "text": [
      "-2.121921175101047\n"
     ],
     "output_type": "stream"
    }
   ],
   "source": [
    "evaluation = pg.log_like(toy_test,prob_matrix) /n_test\n",
    "print(evaluation)\n",
    "#result = sum( sum(dimension.D[s, i.index()] ) for i in range(len(test_dataset)))  "
   ],
   "metadata": {
    "collapsed": false,
    "pycharm": {
     "name": "#%%\n",
     "is_executing": false
    }
   }
  },
  {
   "cell_type": "code",
   "execution_count": 14,
   "outputs": [
    {
     "name": "stdout",
     "text": [
      "Song in the playlist:  ['Down On Me (w\\\\/ 50 Cent)', 'Hot Toddy (w\\\\/ Jay-Z & Ester Dean)', 'Aston Martin Music (w\\\\/ Drake & Chrisette Michelle)', 'Aston Martin Music (w\\\\/ Drake & Chrisette Michelle)', 'Hot Toddy (w\\\\/ Jay-Z & Ester Dean)']\n",
      "End state after  4  days:  Hot Toddy (w\\/ Jay-Z & Ester Dean)\n",
      "Probability of the possible sequence of states:  0.001054831351205396\n"
     ],
     "output_type": "stream"
    }
   ],
   "source": [
    "#generate a playlist\n",
    "pg.playlist_generator(4,5,song_hash,prob_matrix)\n",
    "\n",
    "\n",
    "\n"
   ],
   "metadata": {
    "collapsed": false,
    "pycharm": {
     "name": "#%%\n",
     "is_executing": false
    }
   }
  }
 ],
 "metadata": {
  "kernelspec": {
   "display_name": "Python 3",
   "language": "python",
   "name": "python3"
  },
  "language_info": {
   "codemirror_mode": {
    "name": "ipython",
    "version": 3
   },
   "file_extension": ".py",
   "mimetype": "text/x-python",
   "name": "python",
   "nbconvert_exporter": "python",
   "pygments_lexer": "ipython3",
   "version": "3.7.2"
  },
  "pycharm": {
   "stem_cell": {
    "cell_type": "raw",
    "source": [],
    "metadata": {
     "collapsed": false
    }
   }
  }
 },
 "nbformat": 4,
 "nbformat_minor": 2
}