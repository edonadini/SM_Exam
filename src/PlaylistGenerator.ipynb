{
 "cells": [
  {
   "cell_type": "code",
   "execution_count": 16,
   "metadata": {
    "pycharm": {
     "is_executing": false
    }
   },
   "outputs": [],
   "source": [
    "import os\n",
    "import random as rnd\n",
    "import pandas as pd \n",
    "import time\n",
    "import pgutils as pg\n",
    "import pgmath as pm\n",
    "import algorithm as al\n",
    "import numpy as np"
   ]
  },
  {
   "cell_type": "code",
   "execution_count": 7,
   "outputs": [],
   "source": [
    "root_dir = r'C:\\Users\\eleon\\PycharmProjects\\SM_Exam\\data\\yes_small'\n",
    "#root_dir = './data/yes_small'"
   ],
   "metadata": {
    "collapsed": false,
    "pycharm": {
     "name": "#%%\n",
     "is_executing": false
    }
   }
  },
  {
   "cell_type": "code",
   "execution_count": 8,
   "metadata": {
    "pycharm": {
     "is_executing": false
    }
   },
   "outputs": [],
   "source": [
    "#test_data=[]\n",
    "with open(os.path.join(root_dir, 'test.txt')) as f:\n",
    "#with open(root_dir + \"\\\\test.txt\", \"r\") as f:\n",
    "\n",
    "    test_data = f.readlines()\n",
    "    \n",
    "test_dataset = pg.data_to_list(test_data[2:])"
   ]
  },
  {
   "cell_type": "code",
   "execution_count": 9,
   "metadata": {
    "pycharm": {
     "is_executing": false
    }
   },
   "outputs": [],
   "source": [
    "#train_data=[]\n",
    "with open(os.path.join(root_dir,\"train.txt\"), \"r\") as f:\n",
    "    train_data = f.readlines()\n",
    "    \n",
    "train_dataset = pg.data_to_list(train_data[2:])"
   ]
  },
  {
   "cell_type": "code",
   "execution_count": 23,
   "outputs": [
    {
     "name": "stdout",
     "text": [
      "[2199]\n"
     ],
     "output_type": "stream"
    },
    {
     "data": {
      "text/plain": "[2199]"
     },
     "metadata": {},
     "output_type": "execute_result",
     "execution_count": 23
    }
   ],
   "source": [
    "train_dataset_reducted = train_dataset[:400]\n",
    "print(np.max(np.array(train_dataset_reducted)))\n",
    "max(train_dataset_reducted)"
   ],
   "metadata": {
    "collapsed": false,
    "pycharm": {
     "name": "#%%\n",
     "is_executing": false
    }
   }
  },
  {
   "cell_type": "code",
   "execution_count": 28,
   "metadata": {
    "pycharm": {
     "is_executing": false
    }
   },
   "outputs": [],
   "source": [
    "song_hash = pd.read_csv(os.path.join(root_dir,\"song_hash.txt\"), sep=\"\\t\", header=None)\n"
   ]
  },
  {
   "cell_type": "code",
   "execution_count": 29,
   "outputs": [],
   "source": [
    "# setting parameters\n",
    "dimension = 2#rnd.choice([2, 5,10,25,50,100])\n",
    "# regularization parameter set by cross validation\n",
    "lam = 1 #rnd.choice([0.0001, 0.001, 0.01, 0.1, 1, 10, 20, 50, 100, 500, 1000])\n",
    "# threshold for landmark dimension\n",
    "r = 0.2\n",
    "# number of landmark\n",
    "n_landmarks = 5 #50\n",
    "# num iteration 100 o 200\n",
    "n_iter = 60 #rnd.choice([100, 200])\n",
    "# tau predefined learning rate\n",
    "tau = 0.5"
   ],
   "metadata": {
    "collapsed": false,
    "pycharm": {
     "name": "#%%\n",
     "is_executing": false
    }
   }
  },
  {
   "cell_type": "code",
   "execution_count": 30,
   "outputs": [],
   "source": [
    "#toy_dataset=[[0,6,3,2,1,4,2],[2,0,6,5,6,3,0],[0,5,2,1,6],[5,6,2],[6,5,2,3,5,6,2]]\n",
    "\n",
    "songs = 20 #len(song_hash)\n",
    "transition_matrix = pg.transition_count(songs, train_dataset_reducted)\n",
    "position = np.random.rand(songs, dimension)\n",
    "num_transition = np.sum(transition_matrix)\n",
    "params = pm.AlgParams(lam, tau, num_transition, n_landmarks, r, dimension, n_iter)"
   ],
   "metadata": {
    "collapsed": false,
    "pycharm": {
     "name": "#%%\n",
     "is_executing": false
    }
   }
  },
  {
   "cell_type": "code",
   "execution_count": 33,
   "outputs": [
    {
     "name": "stdout",
     "text": [
      "0\n",
      "inside update vector\n",
      "1\n",
      "inside update vector\n",
      "2\n",
      "inside update vector\n",
      "3\n",
      "inside update vector\n",
      "4\n",
      "inside update vector\n",
      "5\n",
      "inside update vector\n",
      "6\n",
      "inside update vector\n",
      "7\n",
      "inside update vector\n",
      "8\n",
      "inside update vector\n",
      "9\n",
      "inside update vector\n",
      "10\n",
      "inside update vector\n",
      "11\n",
      "inside update vector\n",
      "12\n",
      "inside update vector\n",
      "13\n",
      "inside update vector\n",
      "14\n",
      "inside update vector\n",
      "15\n",
      "inside update vector\n",
      "16\n",
      "inside update vector\n",
      "17\n",
      "inside update vector\n",
      "18\n",
      "inside update vector\n",
      "19\n",
      "inside update vector\n",
      "20\n",
      "inside update vector\n",
      "21\n",
      "inside update vector\n",
      "22\n",
      "inside update vector\n",
      "23\n",
      "inside update vector\n",
      "24\n",
      "inside update vector\n",
      "25\n",
      "inside update vector\n",
      "26\n",
      "inside update vector\n",
      "27\n",
      "inside update vector\n",
      "28\n",
      "inside update vector\n",
      "29\n",
      "inside update vector\n",
      "30\n",
      "inside update vector\n",
      "31\n",
      "inside update vector\n",
      "32\n",
      "inside update vector\n",
      "33\n",
      "inside update vector\n",
      "34\n",
      "inside update vector\n",
      "35\n",
      "inside update vector\n",
      "36\n",
      "inside update vector\n",
      "37\n",
      "inside update vector\n",
      "38\n",
      "inside update vector\n",
      "39\n",
      "inside update vector\n",
      "40\n",
      "inside update vector\n",
      "41\n",
      "inside update vector\n",
      "42\n",
      "inside update vector\n",
      "43\n",
      "inside update vector\n",
      "44\n",
      "inside update vector\n",
      "45\n",
      "inside update vector\n",
      "46\n",
      "inside update vector\n",
      "47\n",
      "inside update vector\n",
      "48\n",
      "inside update vector\n",
      "49\n",
      "inside update vector\n",
      "50\n",
      "inside update vector\n",
      "51\n",
      "inside update vector\n",
      "52\n",
      "inside update vector\n",
      "53\n",
      "inside update vector\n",
      "54\n",
      "inside update vector\n",
      "55\n",
      "inside update vector\n",
      "56\n",
      "inside update vector\n",
      "57\n",
      "inside update vector\n",
      "58\n",
      "inside update vector\n",
      "59\n",
      "inside update vector\n",
      "total time { 4.929127100000187 } seconds\n"
     ],
     "output_type": "stream"
    }
   ],
   "source": [
    "tic = time.perf_counter()\n",
    "X = al.single_point_algorithm(songs,transition_matrix, params)\n",
    "toc = time.perf_counter()\n",
    "print(\"total time {\",toc - tic,\"} seconds\")"
   ],
   "metadata": {
    "collapsed": false,
    "pycharm": {
     "name": "#%%\n",
     "is_executing": false
    }
   }
  },
  {
   "cell_type": "code",
   "execution_count": 11,
   "outputs": [],
   "source": [
    "dummy_landmarks = [[i for i in range(songs)] for j in range(songs)]\n",
    "d2 = pm.Distances.delta(X)\n",
    "prob_matrix = np.exp(-d2)/pm.Distances.zeta(d2,X,dummy_landmarks)\n",
    "cum_sum = np.sum(prob_matrix, axis=1)\n",
    "prob_matrix = prob_matrix / cum_sum[:,np.newaxis]"
   ],
   "metadata": {
    "collapsed": false,
    "pycharm": {
     "name": "#%%\n",
     "is_executing": false
    }
   }
  },
  {
   "cell_type": "code",
   "execution_count": 12,
   "outputs": [
    {
     "name": "stdout",
     "text": [
      "cum [1.23162636 1.07993096 1.00166949 1.01194961 1.14133439 0.85193004\n",
      " 1.17193823 1.19106609 1.09122854 1.0053727  1.20938424 1.03130146\n",
      " 1.21703208 0.9725313  1.25104557 1.00867447 1.01919497 1.02511276\n",
      " 0.49682903 0.99774078 1.00018692 1.03805412 0.97181095 1.06021849\n",
      " 1.23011332 0.99112651 1.01006757 1.23963912 1.00018692 0.98255949\n",
      " 1.01262852 1.02382161 1.25441685 1.00743067 1.02198145 1.00828459\n",
      " 1.16177283 1.04330282 0.9979105  1.01278079 1.00166739 0.99696881\n",
      " 0.96799266 0.99469465 1.03298463 0.97738797 1.01818069 1.02233668\n",
      " 0.99030688 0.98535181 1.00345937 1.02085112 0.99578408 1.00867751\n",
      " 1.01129263 0.97784757 1.00996883 1.00361872 0.99718421 0.99211551\n",
      " 1.02123656 1.02040031 0.9944889  1.01295802 1.01953592 1.02649345\n",
      " 1.02045596 1.02775997 0.9901504  0.99909094 1.00369296 0.99738802\n",
      " 1.02805843 1.02931631 0.99762438 0.98834067 1.01241936 1.01462562\n",
      " 0.9881756  1.0285173  1.01559384 1.0286632  1.00826772 0.97897038\n",
      " 1.01788435 1.00463935 1.0063215  1.02779464 1.02145481 1.0224263\n",
      " 0.97700472 0.98908794 1.01275801 1.02568407 1.01149321 1.00861965\n",
      " 1.01482516 1.03130337 1.02201817 1.02902244 1.01690103 0.99440118\n",
      " 1.00034586 1.02683374 1.01580508 1.01661929 0.96798584 1.03102405\n",
      " 0.99719312 1.00975636 1.01114125 0.98043232 1.03219399 0.98922768\n",
      " 0.96844873 1.0141132  1.00813259 1.00686478 1.0181061  0.99141404\n",
      " 1.03106313 1.02418442 0.99851672 0.99827504 1.00124    0.9727139\n",
      " 1.02715032 1.00800595 0.98967938 1.02823018 1.03366395 1.03352817\n",
      " 1.02461974 1.00957407 0.98873364 1.02082904 1.02971505 0.98256973\n",
      " 0.95992311 1.01433702 1.00981919 0.98961093 0.9967873  1.03433396\n",
      " 0.99357774 0.98546924 1.01297383 0.99414009 0.9958404  1.01694775\n",
      " 0.96352453 1.02708163 0.96636472 1.03071059 1.00371583 0.95134449\n",
      " 0.96872752 1.01483867 1.03256617 0.99113182 1.00771868 1.00174603\n",
      " 1.03159285 1.01678572 0.99205706 1.01528143 1.0041856  1.0286941\n",
      " 1.01039558 1.01234714 0.99366829 0.99886052 1.01603264 1.22730515\n",
      " 1.01231052]\n",
      "sum norm [1. 1. 1. 1. 1. 1. 1. 1. 1. 1. 1. 1. 1. 1. 1. 1. 1. 1. 1. 1. 1. 1. 1. 1.\n",
      " 1. 1. 1. 1. 1. 1. 1. 1. 1. 1. 1. 1. 1. 1. 1. 1. 1. 1. 1. 1. 1. 1. 1. 1.\n",
      " 1. 1. 1. 1. 1. 1. 1. 1. 1. 1. 1. 1. 1. 1. 1. 1. 1. 1. 1. 1. 1. 1. 1. 1.\n",
      " 1. 1. 1. 1. 1. 1. 1. 1. 1. 1. 1. 1. 1. 1. 1. 1. 1. 1. 1. 1. 1. 1. 1. 1.\n",
      " 1. 1. 1. 1. 1. 1. 1. 1. 1. 1. 1. 1. 1. 1. 1. 1. 1. 1. 1. 1. 1. 1. 1. 1.\n",
      " 1. 1. 1. 1. 1. 1. 1. 1. 1. 1. 1. 1. 1. 1. 1. 1. 1. 1. 1. 1. 1. 1. 1. 1.\n",
      " 1. 1. 1. 1. 1. 1. 1. 1. 1. 1. 1. 1. 1. 1. 1. 1. 1. 1. 1. 1. 1. 1. 1. 1.\n",
      " 1. 1. 1. 1. 1. 1. 1.]\n",
      "0.9999999999999994\n"
     ],
     "output_type": "stream"
    }
   ],
   "source": [
    "print('cum',cum_sum)\n",
    "print('sum norm', np.sum(prob_matrix, axis=1))\n",
    "#print('sum row ',np.sum(prob_matrix/cum_sum[0], axis=0))\n",
    "print(np.sum(prob_matrix[1]))"
   ],
   "metadata": {
    "collapsed": false,
    "pycharm": {
     "name": "#%%\n",
     "is_executing": false
    }
   }
  },
  {
   "cell_type": "code",
   "execution_count": 13,
   "outputs": [
    {
     "name": "stdout",
     "text": [
      "[[7.88962562e-01 8.58133712e-09 1.91521663e-15 ... 2.30537762e-05\n",
      "  1.39778847e-07 2.31019160e-05]\n",
      " [9.51190783e-09 9.25784056e-01 2.32647120e-23 ... 1.70989905e-08\n",
      "  4.52708856e-02 1.70797813e-08]\n",
      " [2.28827286e-15 2.50769616e-23 9.98333294e-01 ... 6.79752479e-20\n",
      "  4.07827753e-22 6.81859577e-20]\n",
      " ...\n",
      " [3.83851267e-03 2.56849491e-06 9.47287491e-18 ... 6.96270701e-03\n",
      "  4.17681067e-05 6.87277235e-03]\n",
      " [1.52740368e-07 4.46291585e-02 3.72991771e-22 ... 2.74117184e-07\n",
      "  7.27104547e-01 2.73773843e-07]\n",
      " [3.85693856e-03 2.57255315e-06 9.52795638e-18 ... 6.89137325e-03\n",
      "  4.18286930e-05 6.99507101e-03]]\n",
      "[1.54079625 1.01036312 0.99999238 0.99991709 1.02577024 9.65101306\n",
      " 1.94462841 0.98610957 1.11467104 1.00067608 1.08091577 0.92037749\n",
      " 0.96995624 1.00035133 0.89467306 0.99998304 1.00016736 0.92413813\n",
      " 1.00241158 0.89799019 1.         0.99982155 1.04419492 1.09571467\n",
      " 1.00917628 0.88767438 0.90490494 1.121602   1.         0.8847916\n",
      " 0.99986493 0.91485029 0.89419331 0.99991557 1.01929823 0.90025785\n",
      " 4.72694782 1.00034202 0.8927614  0.90535426 0.90006657 0.89564685\n",
      " 0.87568276 0.89207767 0.92108492 0.88007051 0.90945892 0.91107585\n",
      " 0.89123047 0.88647535 0.90100022 0.91381221 0.89615392 0.90539249\n",
      " 0.90406129 0.88188316 0.9064593  0.89797838 0.89227216 0.89200977\n",
      " 0.91385016 0.91064408 0.8902584  0.90740311 0.90987749 0.91410472\n",
      " 0.91355458 0.91522189 0.89284288 0.89894325 0.90204976 0.89227972\n",
      " 0.91545157 0.91905848 0.89227042 0.88569033 0.90601317 0.90931493\n",
      " 0.88970756 0.91579471 0.90562543 0.91636144 0.90071215 0.88287819\n",
      " 0.90749575 0.90197358 0.89927429 0.91803183 0.91228176 0.91330936\n",
      " 0.88070201 0.89096978 0.90438775 0.91358198 0.90587258 0.90513848\n",
      " 0.90899267 0.91881929 0.91420963 0.91891519 0.91044005 0.89285118\n",
      " 0.89953195 0.9167976  0.91034926 0.90654815 0.87569633 0.91820332\n",
      " 0.89226808 0.90150093 0.9071322  0.88603992 0.92069486 0.88917041\n",
      " 0.87145825 0.90613091 0.90002825 0.90107478 0.90983329 0.89342583\n",
      " 0.91784636 0.9148091  0.89338571 0.89793053 0.89593631 0.87887523\n",
      " 0.91782754 0.90000331 0.89251315 0.91547412 0.92101772 0.92006664\n",
      " 0.91627787 0.9042303  0.8862275  0.91331253 0.91898301 0.88132823\n",
      " 0.87268828 0.90903409 0.90148905 0.88660354 0.89211283 0.92173706\n",
      " 0.88951149 0.88613499 0.90829184 0.88986174 0.89187868 0.90701162\n",
      " 0.87253851 0.9172533  0.87369186 0.91943356 0.9021633  0.86465194\n",
      " 0.87167914 0.90818996 0.92028669 0.89014103 0.90432261 0.90055125\n",
      " 0.91887482 0.91107727 0.89281301 0.91006394 0.90203993 0.91833303\n",
      " 0.90475303 0.90768683 0.88982823 0.89365594 0.91037414 1.00200871\n",
      " 0.90768745]\n"
     ],
     "output_type": "stream"
    }
   ],
   "source": [
    "print(prob_matrix)\n",
    "print(np.sum(prob_matrix, axis=0))"
   ],
   "metadata": {
    "collapsed": false,
    "pycharm": {
     "name": "#%%\n",
     "is_executing": false
    }
   }
  },
  {
   "cell_type": "code",
   "execution_count": 14,
   "outputs": [
    {
     "name": "stdout",
     "text": [
      "148.0\n"
     ],
     "output_type": "stream"
    }
   ],
   "source": [
    "#toy_test=[[0,4,5,3,6],[4,3,2,6],[0,2,1,0,5]]\n",
    "# evaluate test performance using the average log-likelihood as metric\n",
    "# it is defined as log(Pr(d_test))/n_test)\n",
    "# n_test number of transition in the test set\n",
    "#songs = 7 #len(song_hash)\n",
    "n_test = np.sum(pg.transition_count(songs,test_dataset[:100]))\n",
    "print(n_test)"
   ],
   "metadata": {
    "collapsed": false,
    "pycharm": {
     "name": "#%%\n",
     "is_executing": false
    }
   }
  },
  {
   "cell_type": "code",
   "execution_count": 15,
   "outputs": [
    {
     "name": "stdout",
     "text": [
      "-38.08354427850766\n"
     ],
     "output_type": "stream"
    }
   ],
   "source": [
    "evaluation = pg.log_like(test_dataset[:100],prob_matrix) /n_test\n",
    "print(evaluation)\n",
    "#result = sum( sum(dimension.D[s, i.index()] ) for i in range(len(test_dataset)))  "
   ],
   "metadata": {
    "collapsed": false,
    "pycharm": {
     "name": "#%%\n",
     "is_executing": false
    }
   }
  },
  {
   "cell_type": "code",
   "execution_count": 3,
   "outputs": [
    {
     "data": {
      "text/plain": "(2200,)"
     },
     "metadata": {},
     "output_type": "execute_result",
     "execution_count": 3
    }
   ],
   "source": [
    "#generate a playlist\n",
    "#pg.playlist_generator(4,5,song_hash,prob_matrix)\n",
    "prob_matrix = np.genfromtxt(r'C:\\Users\\eleon\\Desktop\\SM_Exam\\src\\latent_representation2200.csv', delimiter=',')\n",
    "prob_matrix.shape\n",
    "\n",
    "\n"
   ],
   "metadata": {
    "collapsed": false,
    "pycharm": {
     "name": "#%%\n",
     "is_executing": false
    }
   }
  },
  {
   "cell_type": "code",
   "execution_count": 4,
   "outputs": [
    {
     "data": {
      "text/plain": "(2200, 10)"
     },
     "metadata": {},
     "output_type": "execute_result",
     "execution_count": 4
    }
   ],
   "source": [
    "x = np.genfromtxt(r'C:\\Users\\eleon\\Desktop\\SM_Exam\\src\\latent_representation2200.csv', delimiter=' ')\n",
    "x.shape\n"
   ],
   "metadata": {
    "collapsed": false,
    "pycharm": {
     "name": "#%%\n",
     "is_executing": false
    }
   }
  },
  {
   "cell_type": "code",
   "execution_count": 5,
   "outputs": [
    {
     "data": {
      "text/plain": "(2200, 2200)"
     },
     "metadata": {},
     "output_type": "execute_result",
     "execution_count": 5
    }
   ],
   "source": [
    "#dummy_landmarks = [[i for i in range(songs)] for j in range(songs)]\n",
    "d2 = pm.Distances.delta(x)\n",
    "d2.shape"
   ],
   "metadata": {
    "collapsed": false,
    "pycharm": {
     "name": "#%%\n",
     "is_executing": false
    }
   }
  },
  {
   "cell_type": "code",
   "execution_count": 8,
   "outputs": [
    {
     "data": {
      "text/plain": "(2200, 2200)"
     },
     "metadata": {},
     "output_type": "execute_result",
     "execution_count": 8
    }
   ],
   "source": [
    "dummy_landmarks = [[i for i in range(2200)] for j in range(2200)]\n",
    "prob_matrix = np.exp(-d2) / pm.Distances.zeta(d2, x, dummy_landmarks)\n",
    "prob_matrix.shape"
   ],
   "metadata": {
    "collapsed": false,
    "pycharm": {
     "name": "#%%\n",
     "is_executing": false
    }
   }
  },
  {
   "cell_type": "code",
   "execution_count": 10,
   "outputs": [],
   "source": [
    "cum_sum = np.sum(prob_matrix, axis=1)\n",
    "prob_matrix = prob_matrix / cum_sum[:, np.newaxis]"
   ],
   "metadata": {
    "collapsed": false,
    "pycharm": {
     "name": "#%%    \n",
     "is_executing": false
    }
   }
  },
  {
   "cell_type": "code",
   "execution_count": 12,
   "outputs": [],
   "source": [
    "from numpy import savetxt\n",
    "\n",
    "savetxt('prob_matrix_2200.csv', prob_matrix, delimiter=' ')"
   ],
   "metadata": {
    "collapsed": false,
    "pycharm": {
     "name": "#%%\n",
     "is_executing": false
    }
   }
  },
  {
   "cell_type": "code",
   "execution_count": 19,
   "outputs": [
    {
     "traceback": [
      "\u001b[1;31m---------------------------------------------------------------------------\u001b[0m",
      "\u001b[1;31mTypeError\u001b[0m                                 Traceback (most recent call last)",
      "\u001b[1;32m<ipython-input-19-58fa36ca4f43>\u001b[0m in \u001b[0;36m<module>\u001b[1;34m\u001b[0m\n\u001b[1;32m----> 1\u001b[1;33m \u001b[0mpg\u001b[0m\u001b[1;33m.\u001b[0m\u001b[0mplaylist_generator\u001b[0m\u001b[1;33m(\u001b[0m\u001b[1;36m10\u001b[0m\u001b[1;33m,\u001b[0m\u001b[1;36m60\u001b[0m\u001b[1;33m,\u001b[0m\u001b[1;36m2200\u001b[0m\u001b[1;33m,\u001b[0m \u001b[0mprob_matrix\u001b[0m\u001b[1;33m)\u001b[0m\u001b[1;33m\u001b[0m\u001b[1;33m\u001b[0m\u001b[0m\n\u001b[0m\u001b[0;32m      2\u001b[0m \u001b[1;33m\u001b[0m\u001b[0m\n",
      "\u001b[1;31mTypeError\u001b[0m: playlist_generator() takes 3 positional arguments but 4 were given"
     ],
     "ename": "TypeError",
     "evalue": "playlist_generator() takes 3 positional arguments but 4 were given",
     "output_type": "error"
    }
   ],
   "source": [
    "pg.playlist_generator(10,60,2200, prob_matrix)"
   ],
   "metadata": {
    "collapsed": false,
    "pycharm": {
     "name": "#%%\n",
     "is_executing": false
    }
   }
  },
  {
   "cell_type": "code",
   "execution_count": null,
   "outputs": [],
   "source": [
    "\n"
   ],
   "metadata": {
    "collapsed": false,
    "pycharm": {
     "name": "#%%\n"
    }
   }
  }
 ],
 "metadata": {
  "kernelspec": {
   "display_name": "Python 3",
   "language": "python",
   "name": "python3"
  },
  "language_info": {
   "codemirror_mode": {
    "name": "ipython",
    "version": 3
   },
   "file_extension": ".py",
   "mimetype": "text/x-python",
   "name": "python",
   "nbconvert_exporter": "python",
   "pygments_lexer": "ipython3",
   "version": "3.7.2"
  },
  "pycharm": {
   "stem_cell": {
    "cell_type": "raw",
    "source": [],
    "metadata": {
     "collapsed": false
    }
   }
  }
 },
 "nbformat": 4,
 "nbformat_minor": 2
}